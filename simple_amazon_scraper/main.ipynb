{
 "cells": [
  {
   "cell_type": "code",
   "execution_count": 25,
   "id": "152c9d1c",
   "metadata": {},
   "outputs": [],
   "source": [
    "# importer les librairies\n",
    "import requests\n",
    "from bs4 import BeautifulSoup\n",
    "import pandas as pd\n",
    "from time import sleep"
   ]
  },
  {
   "cell_type": "code",
   "execution_count": 27,
   "id": "058415ff",
   "metadata": {},
   "outputs": [
    {
     "name": "stdout",
     "output_type": "stream",
     "text": [
      "Entrez le nom du produit :stylos bic\n"
     ]
    }
   ],
   "source": [
    "search_query = input('Entrez le nom du produit :')"
   ]
  },
  {
   "cell_type": "code",
   "execution_count": 28,
   "id": "c3fcb77c",
   "metadata": {},
   "outputs": [],
   "source": [
    "# créer un agent de connexion\n",
    "headers = {\n",
    "    'User-Agent': 'Mozilla/5.0 (Windows NT 10.0; Win64; x64; rv:94.0) Gecko/20100101 Firefox/94.0',\n",
    "    'Accept-Language': 'en-US, en;q=0.5'\n",
    "}\n",
    "\n",
    "search_query = search_query.replace(' ', '+')\n",
    "base_url = 'https://www.amazon.com/s?k={0}'.format(search_query)"
   ]
  },
  {
   "cell_type": "code",
   "execution_count": 30,
   "id": "8c285169",
   "metadata": {},
   "outputs": [],
   "source": [
    "# disable your proxies in your requests\n",
    "proxies = {\n",
    "  \"http\": None,\n",
    "  \"https\": None,\n",
    "}\n"
   ]
  },
  {
   "cell_type": "code",
   "execution_count": 32,
   "id": "b9f63e21",
   "metadata": {},
   "outputs": [
    {
     "name": "stdout",
     "output_type": "stream",
     "text": [
      "Processing https://www.amazon.com/s?k=stylos+bic&page=1...\n",
      "Processing https://www.amazon.com/s?k=stylos+bic&page=2...\n",
      "Processing https://www.amazon.com/s?k=stylos+bic&page=3...\n",
      "Processing https://www.amazon.com/s?k=stylos+bic&page=4...\n"
     ]
    }
   ],
   "source": [
    "items = []\n",
    "for i in range(1, 5):\n",
    "    print('Processing {0}...'.format(base_url + '&page={0}'.format(i)))\n",
    "    response = requests.get(base_url + '&page={0}'.format(i), headers=headers, proxies=proxies)\n",
    "    soup = BeautifulSoup(response.content, 'html.parser')\n",
    "    \n",
    "    results = soup.find_all('div', {'class': 's-result-item', 'data-component-type': 's-search-result'})\n",
    "\n",
    "    for result in results:\n",
    "        product_name = result.h2.text\n",
    "\n",
    "        try:\n",
    "            rating = result.find('i', {'class': 'a-icon'}).text\n",
    "            rating_count = result.find_all('span', {'aria-label': True})[1].text\n",
    "        except AttributeError:\n",
    "            continue\n",
    "\n",
    "        try:\n",
    "            price1 = result.find('span', {'class': 'a-price-whole'}).text\n",
    "            price2 = result.find('span', {'class': 'a-price-fraction'}).text\n",
    "            price = float(price1 + price2)\n",
    "            product_url = 'https://amazon.com' + result.h2.a['href']\n",
    "            # print(rating_count, product_url)\n",
    "            items.append([product_name, rating, rating_count, price, product_url])\n",
    "        except AttributeError:\n",
    "            continue\n",
    "    sleep(1.5)"
   ]
  },
  {
   "cell_type": "code",
   "execution_count": 33,
   "id": "0c1a2e3d",
   "metadata": {},
   "outputs": [],
   "source": [
    "# créer le dataframe\n",
    "df = pd.DataFrame(items, columns=['produit', 'note', 'nombre_de_notes', 'prix', 'lien produit'])"
   ]
  },
  {
   "cell_type": "code",
   "execution_count": 34,
   "id": "7e05d6b1",
   "metadata": {},
   "outputs": [],
   "source": [
    "df.to_excel('{0}.xlsx'.format(search_query), index=False)"
   ]
  },
  {
   "cell_type": "code",
   "execution_count": null,
   "id": "581df2be",
   "metadata": {},
   "outputs": [],
   "source": []
  }
 ],
 "metadata": {
  "kernelspec": {
   "display_name": "Python 3 (ipykernel)",
   "language": "python",
   "name": "python3"
  },
  "language_info": {
   "codemirror_mode": {
    "name": "ipython",
    "version": 3
   },
   "file_extension": ".py",
   "mimetype": "text/x-python",
   "name": "python",
   "nbconvert_exporter": "python",
   "pygments_lexer": "ipython3",
   "version": "3.9.13"
  }
 },
 "nbformat": 4,
 "nbformat_minor": 5
}
